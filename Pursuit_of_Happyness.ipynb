{
 "cells": [
  {
   "cell_type": "code",
   "execution_count": null,
   "metadata": {},
   "outputs": [],
   "source": [
    "import pandas as pd\n",
    "import plotly.express as px\n",
    "import numpy as np\n",
    "import scipy\n",
    "import geopandas as gpd\n",
    "import matplotlib.pyplot as plt\n",
    "import plotly.graph_objs as go\n",
    "from plotly.subplots import make_subplots\n",
    "import seaborn as sns"
   ]
  },
  {
   "cell_type": "markdown",
   "metadata": {},
   "source": [
    "World Happiness Report from 2015-2019.\n",
    "Kaggle File: https://www.kaggle.com/datasets/unsdsn/world-happiness?select=2015.csv\n",
    "\n",
    "World map, region definitions: https://ourworldindata.org/world-region-map-definitions"
   ]
  },
  {
   "cell_type": "code",
   "execution_count": null,
   "metadata": {},
   "outputs": [],
   "source": [
    "#read in all the files\n",
    "happy_2015 = pd.read_csv('2015.csv')\n",
    "happy_2016 = pd.read_csv('2016.csv')\n",
    "happy_2017 = pd.read_csv('2017.csv')\n",
    "happy_2018 = pd.read_csv('2018.csv')\n",
    "happy_2019 = pd.read_csv('2019.csv')\n",
    "country_region = pd.read_csv('continents-according-to-our-world-in-data.csv')"
   ]
  },
  {
   "cell_type": "code",
   "execution_count": null,
   "metadata": {},
   "outputs": [],
   "source": [
    "#Add \"Year\" column\n",
    "file_list = [happy_2015,happy_2016,happy_2017,happy_2018,happy_2019]\n",
    "i = 2015\n",
    "for data in file_list:\n",
    "    data['Year'] = i\n",
    "    i += 1"
   ]
  },
  {
   "cell_type": "code",
   "execution_count": null,
   "metadata": {},
   "outputs": [],
   "source": [
    "#Rename columns\n",
    "happy_2015 = happy_2015.rename(columns={'Happiness Rank':'Rank','Happiness Score':'Happy_Score','Economy (GDP per Capita)':'Economy',\n",
    "                                        'Health (Life Expectancy)':'Life_Expect','Trust (Government Corruption)':'Gov_Trust',\n",
    "                                        'Dystopia Residual':'Dys_Res'})\n",
    "\n",
    "happy_2016 = happy_2016.rename(columns={'Happiness Rank':'Rank','Happiness Score':'Happy_Score','Economy (GDP per Capita)':'Economy',\n",
    "                                        'Health (Life Expectancy)':'Life_Expect','Trust (Government Corruption)':'Gov_Trust',\n",
    "                                        'Dystopia Residual':'Dys_Res'})\n",
    "\n",
    "happy_2017 = happy_2017.rename(columns={'Happiness.Rank':'Rank','Happiness.Score':'Happy_Score','Economy..GDP.per.Capita.':'Economy',\n",
    "                                        'Health..Life.Expectancy.':'Life_Expect','Trust..Government.Corruption.':'Gov_Trust',\n",
    "                                        'Dystopia.Residual':'Dys_Res'})\n",
    "\n",
    "happy_2018 = happy_2018.rename(columns={'Overall rank':'Rank','Country or region':'Country','Score':'Happy_Score', \n",
    "                                        'GDP per capita':'Economy','Social support':'Family','Healthy life expectancy':'Life_Expect', \n",
    "                                        'Freedom to make life choices':'Freedom','Perceptions of corruption': 'Gov_Trust'})\n",
    "\n",
    "happy_2019 = happy_2019.rename(columns={'Overall rank':'Rank','Country or region':'Country','Score':'Happy_Score', \n",
    "                                        'GDP per capita':'Economy','Social support':'Family','Healthy life expectancy':'Life_Expect',\n",
    "                                        'Freedom to make life choices':'Freedom','Perceptions of corruption':'Gov_Trust'})\n",
    "\n",
    "country_region = country_region.rename(columns={'Entity':'Country'})"
   ]
  },
  {
   "cell_type": "code",
   "execution_count": null,
   "metadata": {},
   "outputs": [],
   "source": [
    "#stack all dataframes into one, drop the columns that are not needed\n",
    "stacked = pd.concat([happy_2015,happy_2016,happy_2017,happy_2018,happy_2019], ignore_index=True)\n",
    "happy_data = stacked.drop(['Standard Error','Dys_Res','Lower Confidence Interval','Upper Confidence Interval','Whisker.high','Whisker.low','Region'],axis='columns')\n",
    "country_region = country_region.drop(['Code','Year'], axis='columns')"
   ]
  },
  {
   "cell_type": "code",
   "execution_count": null,
   "metadata": {},
   "outputs": [],
   "source": [
    "happy_data = happy_data.replace('Czech Republic', 'Czechia')\n",
    "happy_data = happy_data.replace('North Cyprus', 'Northern Cyprus')\n",
    "happy_data = happy_data.replace('Somaliland Region', 'Somaliland')\n",
    "happy_data = happy_data.replace('Somaliland region', 'Somaliland')\n",
    "happy_data = happy_data.replace('Swaziland', 'Eswatini')\n",
    "happy_data = happy_data.replace('Palestinian Territories', 'Palestine')\n",
    "happy_data = happy_data.replace('Congo (Kinshasa)', 'Democratic Republic of Congo')\n",
    "happy_data = happy_data.replace('Ivory Coast', \"Cote d'Ivoire\")\n",
    "happy_data = happy_data.replace('Taiwan Province of China', 'Taiwan')\n",
    "happy_data = happy_data.replace('Hong Kong S.A.R., China', 'Hong Kong')\n",
    "happy_data = happy_data.replace('Swaziland', 'Eswatini')\n",
    "happy_data = happy_data.replace('Trinidad & Tobago', 'Trinidad and Tobago')"
   ]
  },
  {
   "cell_type": "code",
   "execution_count": null,
   "metadata": {},
   "outputs": [],
   "source": [
    "def merge_region(df):\n",
    "    df = pd.merge(df, country_region, how='left')\n",
    "    return df\n",
    "\n",
    "happy_data = pd.merge(happy_data, country_region, how='left')"
   ]
  },
  {
   "cell_type": "code",
   "execution_count": null,
   "metadata": {},
   "outputs": [],
   "source": [
    "#Fill in the rows with missing continents\n",
    "def fill_in_rest(df):\n",
    "    df.loc[df['Country'] == 'Macedonia', 'Continent'] = 'Europe'    \n",
    "    df.loc[df['Country'] == 'Congo (Brazzaville)', 'Country'] = 'Brazzaville'\n",
    "    df.loc[df['Country'] == 'Brazzaville', 'Continent'] = 'Africa'\n",
    "    return df\n",
    "\n"
   ]
  },
  {
   "cell_type": "code",
   "execution_count": null,
   "metadata": {},
   "outputs": [],
   "source": [
    "#Check the columns that have missing values\n",
    "for col in happy_data.columns:\n",
    "    print(f'no values for : {col}')\n",
    "    print(happy_data[happy_data[col].isna()])\n",
    "    print(' ')\n",
    "\n",
    "print(happy_data[happy_data['Country']=='United Arab Emirates'])\n"
   ]
  },
  {
   "cell_type": "code",
   "execution_count": null,
   "metadata": {},
   "outputs": [],
   "source": [
    "#impute the missing value for the UAE's trust number by filling it in with the average for all five years\n",
    "def fill_nan_trust(df):\n",
    "    gov_trust_avg = df.groupby('Country')['Gov_Trust'].mean().reset_index()\n",
    "    uae = gov_trust_avg[gov_trust_avg['Country'] == 'United Arab Emirates'].reset_index()\n",
    "    avg_num = round(uae.at[0, 'Gov_Trust'], 7)\n",
    "    df['Gov_Trust'].fillna(avg_num, inplace = True)\n",
    "    return df"
   ]
  },
  {
   "cell_type": "code",
   "execution_count": null,
   "metadata": {},
   "outputs": [],
   "source": [
    "# for col in ['Economy', 'Family', 'Life_Expect','Freedom', 'Gov_Trust', 'Generosity']:\n",
    "#     fig = px.scatter(happy_data, x=f'{col}', y='Happy_Score', title=f'{col} vs. Happiness Score').show()\n",
    "#     fig = px.histogram(happy_data, x=f'{col}', title=f'{col} distribution').show()\n",
    "# fig = px.histogram(happy_data, x='Happy_Score').show()"
   ]
  },
  {
   "cell_type": "markdown",
   "metadata": {},
   "source": [
    "Question 1a: Does a better economy mean higher happiness score?\n",
    "\n",
    "Question 1b: How does the happiness score change for the top ten economies throughout the years."
   ]
  },
  {
   "cell_type": "code",
   "execution_count": null,
   "metadata": {},
   "outputs": [],
   "source": [
    "def happy_economy(df):\n",
    "\n",
    "    fig = px.scatter(df, x='Economy', y='Happy_Score', title='Economy vs. Happiness Score').show()\n",
    "\n",
    "    top_10_econ_2015 = happy_2015.nlargest(10, 'Economy')\n",
    "    countries_list = top_10_econ_2015['Country'].to_list()\n",
    "    top_10 = df[df['Country'].isin(countries_list)]\n",
    "\n",
    "    #separate out into quantiles\n",
    "    df['Quantile'] = pd.qcut(df['Economy'], q=4, labels=['Bottom 25%', '25-50%', '50-75%', 'Top 25%'])\n",
    "    group_quant = df.groupby('Quantile')['Happy_Score'].mean().reset_index()\n",
    "\n",
    "    #bar graph to show the quantiles\n",
    "    fig = px.bar(group_quant, x='Quantile', y='Happy_Score', title='Average happiness scores of four quartiles (based on the economy)',\n",
    "                 text_auto=True, color_discrete_sequence=['darkgreen'])\n",
    "    fig.update_layout(xaxis_title = 'Economy (in Quantiles)').show()\n",
    "\n",
    "    #line chart to showcase the change in happiness for top ten economies\n",
    "    fig = px.line(top_10, x='Year', y='Happy_Score', title='Happiness score for the top 10 economies (2015) over the years',\n",
    "                  color = 'Country', markers=True).show()\n",
    "    return df\n"
   ]
  },
  {
   "cell_type": "markdown",
   "metadata": {},
   "source": [
    "Question 2: Does trust in government correlate with the Happiness Score of countries in Asia?"
   ]
  },
  {
   "cell_type": "code",
   "execution_count": null,
   "metadata": {},
   "outputs": [],
   "source": [
    "def Asian_country(df):\n",
    "    asia = df[df['Continent'] == 'Asia']\n",
    "    a_countries = asia['Country'].to_list()\n",
    "    fig = px.scatter(asia, x='Gov_Trust', y='Happy_Score', \n",
    "                     title='Happiness score vs. Government Trust (for Asian and Middle Eastern Countries)',\n",
    "                     color_discrete_sequence=['blue']).show()\n",
    "    \n",
    "    #Heatmap for happiness score of countries in Asia\n",
    "    world = gpd.read_file(gpd.datasets.get_path('naturalearth_lowres'))\n",
    "    Asia_cont = world[world['name'].isin(a_countries)]\n",
    "    asia_group = asia.groupby('Country')['Happy_Score'].mean().reset_index()\n",
    "    Asia_happy = Asia_cont.merge(asia_group, how = 'left', left_on='name', right_on='Country')\n",
    "\n",
    "    fig, ax = plt.subplots(figsize=(10, 8))\n",
    "    ax.set_xlim(20, 180)  \n",
    "    ax.set_ylim(-10, 60)   \n",
    "\n",
    "    Asia_happy.plot(ax=ax, column='Happy_Score', cmap='YlOrRd', legend=True)\n",
    "    plt.title('Happiness Score of Asian and Middle Eastern Countries')\n",
    "    plt.xlabel('Longitude')\n",
    "    plt.ylabel('Latitude')\n",
    "    plt.show()\n",
    "\n",
    "    #Heatmap for Government Trust of countries in Asia\n",
    "    asia_trust_group = asia.groupby('Country')['Gov_Trust'].mean().reset_index()\n",
    "    Asia_trust_ = Asia_cont.merge(asia_trust_group, how = 'left', left_on='name', right_on='Country')\n",
    "\n",
    "    fig, ax = plt.subplots(figsize=(10, 8))\n",
    "    ax.set_xlim(20, 180)  \n",
    "    ax.set_ylim(-10, 60)   \n",
    "\n",
    "    Asia_trust_.plot(ax=ax, column='Gov_Trust', cmap='YlOrRd', legend=True)\n",
    "    plt.title('Government Trust for Asian and Middle Eastern Countries')\n",
    "    plt.xlabel('Longitude')\n",
    "    plt.ylabel('Latitude')\n",
    "    plt.show()\n"
   ]
  },
  {
   "cell_type": "code",
   "execution_count": null,
   "metadata": {},
   "outputs": [],
   "source": [
    "happy_data.pipe(merge_region).pipe(fill_in_rest).pipe(fill_nan_trust).pipe(happy_economy).pipe(Asian_country)"
   ]
  },
  {
   "cell_type": "markdown",
   "metadata": {},
   "source": [
    "Interesting finds:"
   ]
  },
  {
   "cell_type": "code",
   "execution_count": null,
   "metadata": {},
   "outputs": [],
   "source": [
    "some_countries = ['South Korea', 'United States', 'China']\n",
    "few_countries = happy_data[happy_data['Country'].isin(some_countries)]\n",
    "\n",
    "for col in ['Happy_Score', 'Economy', 'Family', 'Life_Expect', 'Freedom', 'Gov_Trust', 'Generosity']:\n",
    "    fig = px.line(few_countries, x='Year', y=f'{col}', title = f'{col}', color='Country').show()"
   ]
  },
  {
   "cell_type": "code",
   "execution_count": null,
   "metadata": {},
   "outputs": [],
   "source": [
    "top_10 = happy_data[happy_data['Rank'] <= 10]\n",
    "top_10_group = top_10.groupby('Country')['Happy_Score'].mean().reset_index()\n",
    "fig = px.bar(top_10_group, x='Country', y='Happy_Score', color='Country').show()\n",
    "fig = px.histogram(top_10, x='Continent', title='Distribution of continents with top 10 happiest countries',\n",
    "                    color_discrete_sequence = ['Navy'], text_auto=True).show()"
   ]
  }
 ],
 "metadata": {
  "kernelspec": {
   "display_name": "Python 3",
   "language": "python",
   "name": "python3"
  },
  "language_info": {
   "codemirror_mode": {
    "name": "ipython",
    "version": 3
   },
   "file_extension": ".py",
   "mimetype": "text/x-python",
   "name": "python",
   "nbconvert_exporter": "python",
   "pygments_lexer": "ipython3",
   "version": "3.12.2"
  }
 },
 "nbformat": 4,
 "nbformat_minor": 2
}
